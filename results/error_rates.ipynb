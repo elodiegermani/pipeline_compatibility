{
 "cells": [
  {
   "cell_type": "code",
   "execution_count": 1,
   "id": "df9e5164",
   "metadata": {},
   "outputs": [],
   "source": [
    "import error_rate_computation"
   ]
  },
  {
   "cell_type": "markdown",
   "id": "1a92d434",
   "metadata": {},
   "source": [
    "## ERROR RATES SAME PIPELINE ANALYSIS"
   ]
  },
  {
   "cell_type": "code",
   "execution_count": 2,
   "id": "80191129",
   "metadata": {},
   "outputs": [
    {
     "name": "stdout",
     "output_type": "stream",
     "text": [
      "../figures/ER_DATASET_SOFT_SPM_FWHM_8_MC_PARAM_0_HRF_1_VS_DATASET_SOFT_SPM_FWHM_8_MC_PARAM_0_HRF_1\n",
      "Computing error rate...\n",
      "0.019 0.019\n"
     ]
    }
   ],
   "source": [
    "# ERROR RATES SAME PIPELINE SPM\n",
    "for f in [8]:\n",
    "    for p in [0]:\n",
    "        for h in [1]:\n",
    "            result_dir = f'../figures/ER_DATASET_SOFT_SPM_FWHM_{f}_MC_PARAM_{p}_HRF_{h}_VS_DATASET_SOFT_SPM_FWHM_{f}_MC_PARAM_{p}_HRF_{h}'\n",
    "            n_iter = 1000\n",
    "            contrast_list = ['rh']\n",
    "            print(result_dir)\n",
    "            error_rate_computation.compute_error_rate(result_dir, n_iter, contrast_list)"
   ]
  },
  {
   "cell_type": "code",
   "execution_count": 3,
   "id": "71ec1b5f",
   "metadata": {},
   "outputs": [
    {
     "name": "stdout",
     "output_type": "stream",
     "text": [
      "../figures/ER_DATASET_SOFT_FSL_FWHM_5_MC_PARAM_0_HRF_0_VS_DATASET_SOFT_FSL_FWHM_5_MC_PARAM_0_HRF_0\n",
      "Computing error rate...\n",
      "0.021 0.014\n",
      "../figures/ER_DATASET_SOFT_FSL_FWHM_5_MC_PARAM_0_HRF_1_VS_DATASET_SOFT_FSL_FWHM_5_MC_PARAM_0_HRF_1\n",
      "Computing error rate...\n",
      "0.022 0.014\n",
      "../figures/ER_DATASET_SOFT_FSL_FWHM_5_MC_PARAM_6_HRF_0_VS_DATASET_SOFT_FSL_FWHM_5_MC_PARAM_6_HRF_0\n",
      "Computing error rate...\n",
      "0.018 0.019\n",
      "../figures/ER_DATASET_SOFT_FSL_FWHM_5_MC_PARAM_6_HRF_1_VS_DATASET_SOFT_FSL_FWHM_5_MC_PARAM_6_HRF_1\n",
      "Computing error rate...\n",
      "0.026 0.02\n",
      "../figures/ER_DATASET_SOFT_FSL_FWHM_5_MC_PARAM_24_HRF_0_VS_DATASET_SOFT_FSL_FWHM_5_MC_PARAM_24_HRF_0\n",
      "Computing error rate...\n",
      "0.03 0.022\n",
      "../figures/ER_DATASET_SOFT_FSL_FWHM_5_MC_PARAM_24_HRF_1_VS_DATASET_SOFT_FSL_FWHM_5_MC_PARAM_24_HRF_1\n",
      "Computing error rate...\n",
      "0.02 0.022\n",
      "../figures/ER_DATASET_SOFT_FSL_FWHM_8_MC_PARAM_0_HRF_0_VS_DATASET_SOFT_FSL_FWHM_8_MC_PARAM_0_HRF_0\n",
      "Computing error rate...\n",
      "0.013 0.024\n",
      "../figures/ER_DATASET_SOFT_FSL_FWHM_8_MC_PARAM_0_HRF_1_VS_DATASET_SOFT_FSL_FWHM_8_MC_PARAM_0_HRF_1\n",
      "Computing error rate...\n",
      "0.014 0.011\n",
      "../figures/ER_DATASET_SOFT_FSL_FWHM_8_MC_PARAM_6_HRF_0_VS_DATASET_SOFT_FSL_FWHM_8_MC_PARAM_6_HRF_0\n",
      "Computing error rate...\n",
      "0.012 0.016\n",
      "../figures/ER_DATASET_SOFT_FSL_FWHM_8_MC_PARAM_6_HRF_1_VS_DATASET_SOFT_FSL_FWHM_8_MC_PARAM_6_HRF_1\n",
      "Computing error rate...\n",
      "0.018 0.023\n",
      "../figures/ER_DATASET_SOFT_FSL_FWHM_8_MC_PARAM_24_HRF_0_VS_DATASET_SOFT_FSL_FWHM_8_MC_PARAM_24_HRF_0\n",
      "Computing error rate...\n",
      "0.011 0.016\n",
      "../figures/ER_DATASET_SOFT_FSL_FWHM_8_MC_PARAM_24_HRF_1_VS_DATASET_SOFT_FSL_FWHM_8_MC_PARAM_24_HRF_1\n",
      "Computing error rate...\n",
      "0.013 0.012\n"
     ]
    }
   ],
   "source": [
    "# ERROR RATES SAME PIPELINE FSL\n",
    "for f in [5,8]:\n",
    "    for p in [0,6,24]:\n",
    "        for h in [0,1]:\n",
    "            result_dir = f'../figures/ER_DATASET_SOFT_FSL_FWHM_{f}_MC_PARAM_{p}_HRF_{h}_VS_DATASET_SOFT_FSL_FWHM_{f}_MC_PARAM_{p}_HRF_{h}'\n",
    "            n_iter = 1000\n",
    "            contrast_list = ['rh']\n",
    "            print(result_dir)\n",
    "            error_rate_computation.compute_error_rate(result_dir, n_iter, contrast_list)"
   ]
  },
  {
   "cell_type": "markdown",
   "id": "51bf9a81",
   "metadata": {},
   "source": [
    "## ERROR RATES INTER-SOFTWARE ANALYSIS"
   ]
  },
  {
   "cell_type": "code",
   "execution_count": 3,
   "id": "25701d9e",
   "metadata": {},
   "outputs": [
    {
     "name": "stdout",
     "output_type": "stream",
     "text": [
      "../figures/ER_DATASET_SOFT_SPM_FWHM_5_MC_PARAM_0_HRF_0_VS_DATASET_SOFT_FSL_FWHM_5_MC_PARAM_0_HRF_0\n",
      "Computing error rate...\n",
      "0.985\n",
      "1.0\n",
      "../figures/ER_DATASET_SOFT_SPM_FWHM_5_MC_PARAM_0_HRF_1_VS_DATASET_SOFT_FSL_FWHM_5_MC_PARAM_0_HRF_1\n",
      "Computing error rate...\n",
      "0.956\n",
      "1.0\n",
      "../figures/ER_DATASET_SOFT_SPM_FWHM_5_MC_PARAM_6_HRF_0_VS_DATASET_SOFT_FSL_FWHM_5_MC_PARAM_6_HRF_0\n",
      "Computing error rate...\n",
      "0.992\n",
      "0.999\n",
      "../figures/ER_DATASET_SOFT_SPM_FWHM_5_MC_PARAM_6_HRF_1_VS_DATASET_SOFT_FSL_FWHM_5_MC_PARAM_6_HRF_1\n",
      "Computing error rate...\n",
      "0.989\n",
      "0.999\n",
      "../figures/ER_DATASET_SOFT_SPM_FWHM_5_MC_PARAM_24_HRF_0_VS_DATASET_SOFT_FSL_FWHM_5_MC_PARAM_24_HRF_0\n",
      "Computing error rate...\n",
      "0.992\n",
      "0.999\n",
      "../figures/ER_DATASET_SOFT_SPM_FWHM_5_MC_PARAM_24_HRF_1_VS_DATASET_SOFT_FSL_FWHM_5_MC_PARAM_24_HRF_1\n",
      "Computing error rate...\n",
      "1.0\n",
      "0.997\n",
      "../figures/ER_DATASET_SOFT_SPM_FWHM_8_MC_PARAM_0_HRF_0_VS_DATASET_SOFT_FSL_FWHM_8_MC_PARAM_0_HRF_0\n",
      "Computing error rate...\n",
      "0.988\n",
      "1.0\n",
      "../figures/ER_DATASET_SOFT_SPM_FWHM_8_MC_PARAM_0_HRF_1_VS_DATASET_SOFT_FSL_FWHM_8_MC_PARAM_0_HRF_1\n",
      "Computing error rate...\n",
      "0.957\n",
      "1.0\n",
      "../figures/ER_DATASET_SOFT_SPM_FWHM_8_MC_PARAM_6_HRF_0_VS_DATASET_SOFT_FSL_FWHM_8_MC_PARAM_6_HRF_0\n",
      "Computing error rate...\n",
      "0.993\n",
      "1.0\n",
      "../figures/ER_DATASET_SOFT_SPM_FWHM_8_MC_PARAM_6_HRF_1_VS_DATASET_SOFT_FSL_FWHM_8_MC_PARAM_6_HRF_1\n",
      "Computing error rate...\n",
      "0.991\n",
      "1.0\n",
      "../figures/ER_DATASET_SOFT_SPM_FWHM_8_MC_PARAM_24_HRF_0_VS_DATASET_SOFT_FSL_FWHM_8_MC_PARAM_24_HRF_0\n",
      "Computing error rate...\n",
      "0.997\n",
      "1.0\n",
      "../figures/ER_DATASET_SOFT_SPM_FWHM_8_MC_PARAM_24_HRF_1_VS_DATASET_SOFT_FSL_FWHM_8_MC_PARAM_24_HRF_1\n",
      "Computing error rate...\n",
      "1.0\n",
      "0.999\n"
     ]
    }
   ],
   "source": [
    "# ERROR RATES SAME PIPELINE SPM vs FSL\n",
    "for f in [5,8]:\n",
    "    for p in [0,6,24]:\n",
    "        for h in [0,1]:\n",
    "            result_dir = f'../figures/ER_DATASET_SOFT_SPM_FWHM_{f}_MC_PARAM_{p}_HRF_{h}_VS_DATASET_SOFT_FSL_FWHM_{f}_MC_PARAM_{p}_HRF_{h}'\n",
    "            n_iter = 1000\n",
    "            contrast_list = ['rh']\n",
    "            print(result_dir)\n",
    "            error_rate_computation.compute_error_rate(result_dir, n_iter, contrast_list)"
   ]
  },
  {
   "cell_type": "code",
   "execution_count": 1,
   "id": "8f3969da",
   "metadata": {},
   "outputs": [
    {
     "name": "stdout",
     "output_type": "stream",
     "text": [
      "../figures/ER_DATASET_SOFT_SPM_FWHM_5_MC_PARAM_0_HRF_0_VS_DATASET_SOFT_FSL_FWHM_5_MC_PARAM_0_HRF_0_NO_SCALING\n",
      "Computing error rate...\n",
      "1.0\n"
     ]
    }
   ],
   "source": [
    "# ERROR RATES SAME PIPELINE SPM vs FSL NO RESCALING\n",
    "for f in [5]:\n",
    "    for p in [0]:\n",
    "        for h in [0]:\n",
    "            result_dir = f'../figures/ER_DATASET_SOFT_SPM_FWHM_{f}_MC_PARAM_{p}_HRF_{h}_VS_DATASET_SOFT_FSL_FWHM_{f}_MC_PARAM_{p}_HRF_{h}_NO_SCALING'\n",
    "            n_iter = 1000\n",
    "            contrast_list = ['rh']\n",
    "            print(result_dir)\n",
    "            error_rate_computation.compute_error_rate(result_dir, n_iter, contrast_list)"
   ]
  },
  {
   "cell_type": "code",
   "execution_count": 2,
   "id": "33ac15ea",
   "metadata": {},
   "outputs": [
    {
     "name": "stdout",
     "output_type": "stream",
     "text": [
      "../figures/ER_DATASET_SOFT_SPM_FWHM_5_MC_PARAM_0_HRF_0_VS_DATASET_SOFT_FSL_FWHM_5_MC_PARAM_0_HRF_0_NORM\n",
      "Computing error rate...\n",
      "0.92\n"
     ]
    }
   ],
   "source": [
    "# ERROR RATES SAME PIPELINE SPM vs FSL NORMALIZATION\n",
    "for f in [5]:\n",
    "    for p in [0]:\n",
    "        for h in [0]:\n",
    "            result_dir = f'../figures/ER_DATASET_SOFT_SPM_FWHM_{f}_MC_PARAM_{p}_HRF_{h}_VS_DATASET_SOFT_FSL_FWHM_{f}_MC_PARAM_{p}_HRF_{h}_NORM'\n",
    "            n_iter = 1000\n",
    "            contrast_list = ['rh']\n",
    "            print(result_dir)\n",
    "            error_rate_computation.compute_error_rate(result_dir, n_iter, contrast_list)"
   ]
  },
  {
   "cell_type": "markdown",
   "id": "88401bab",
   "metadata": {},
   "source": [
    "## ERROR RATES NON PARAMETRIC"
   ]
  },
  {
   "cell_type": "code",
   "execution_count": 2,
   "id": "8320d35c",
   "metadata": {},
   "outputs": [
    {
     "name": "stdout",
     "output_type": "stream",
     "text": [
      "../figures/ER_DATASET_SOFT_SPM_FWHM_5_MC_PARAM_0_HRF_0_VS_DATASET_SOFT_SPM_FWHM_5_MC_PARAM_0_HRF_0\n",
      "Computing error rate...\n",
      "0.0\n"
     ]
    }
   ],
   "source": [
    "# ERROR RATES SAME PIPELINE NON PARAM SNPM\n",
    "for f in [5]:\n",
    "    for p in [0]:\n",
    "        for h in [0]:\n",
    "            result_dir = f'../figures/ER_DATASET_SOFT_SPM_FWHM_{f}_MC_PARAM_{p}_HRF_{h}_VS_DATASET_SOFT_SPM_FWHM_{f}_MC_PARAM_{p}_HRF_{h}'\n",
    "            n_iter = 1000\n",
    "            contrast_list = ['rh']\n",
    "            print(result_dir)\n",
    "            error_rate_computation.compute_error_rate_non_param(result_dir, n_iter, contrast_list)"
   ]
  },
  {
   "cell_type": "code",
   "execution_count": null,
   "id": "f5e5a75b",
   "metadata": {},
   "outputs": [],
   "source": [
    "for f in [5]:\n",
    "    for p in [0]:\n",
    "        for h in [0]:\n",
    "            result_dir = f'../figures/ER_DATASET_SOFT_SPM_FWHM_{f}_MC_PARAM_{p}_HRF_{h}_VS_DATASET_SOFT_SPM_FWHM_{f}_MC_PARAM_{p}_HRF_{h}'\n",
    "            n_iter = 1000\n",
    "            contrast_list = ['rh']\n",
    "            print(result_dir)\n",
    "            error_rate_computation.compute_error_rate_non_param(result_dir, n_iter, contrast_list)"
   ]
  }
 ],
 "metadata": {
  "kernelspec": {
   "display_name": "Python 3 (ipykernel)",
   "language": "python",
   "name": "python3"
  },
  "language_info": {
   "codemirror_mode": {
    "name": "ipython",
    "version": 3
   },
   "file_extension": ".py",
   "mimetype": "text/x-python",
   "name": "python",
   "nbconvert_exporter": "python",
   "pygments_lexer": "ipython3",
   "version": "3.9.15"
  }
 },
 "nbformat": 4,
 "nbformat_minor": 5
}
