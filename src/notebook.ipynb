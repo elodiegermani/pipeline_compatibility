{
 "cells": [
  {
   "cell_type": "code",
   "execution_count": 1,
   "id": "b4fa8a61-15a0-4ee8-9085-ba72996a814d",
   "metadata": {},
   "outputs": [
    {
     "data": {
      "text/plain": [
       "50"
      ]
     },
     "execution_count": 1,
     "metadata": {},
     "output_type": "execute_result"
    }
   ],
   "source": [
    "len(['/srv/tempdd/egermani/hcp_many_pipelines_preprocess/preprocessed/sub-100610_right-hand_spm-8-0-0_con.nii', '/srv/tempdd/egermani/hcp_many_pipelines_preprocess/preprocessed/sub-105014_right-hand_spm-8-0-0_con.nii', '/srv/tempdd/egermani/hcp_many_pipelines_preprocess/preprocessed/sub-116726_right-hand_spm-8-0-0_con.nii', '/srv/tempdd/egermani/hcp_many_pipelines_preprocess/preprocessed/sub-120515_right-hand_spm-8-0-0_con.nii', '/srv/tempdd/egermani/hcp_many_pipelines_preprocess/preprocessed/sub-121416_right-hand_spm-8-0-0_con.nii', '/srv/tempdd/egermani/hcp_many_pipelines_preprocess/preprocessed/sub-121921_right-hand_spm-8-0-0_con.nii', '/srv/tempdd/egermani/hcp_many_pipelines_preprocess/preprocessed/sub-136631_right-hand_spm-8-0-0_con.nii', '/srv/tempdd/egermani/hcp_many_pipelines_preprocess/preprocessed/sub-137128_right-hand_spm-8-0-0_con.nii', '/srv/tempdd/egermani/hcp_many_pipelines_preprocess/preprocessed/sub-138837_right-hand_spm-8-0-0_con.nii', '/srv/tempdd/egermani/hcp_many_pipelines_preprocess/preprocessed/sub-142424_right-hand_spm-8-0-0_con.nii', '/srv/tempdd/egermani/hcp_many_pipelines_preprocess/preprocessed/sub-151021_right-hand_spm-8-0-0_con.nii', '/srv/tempdd/egermani/hcp_many_pipelines_preprocess/preprocessed/sub-164030_right-hand_spm-8-0-0_con.nii', '/srv/tempdd/egermani/hcp_many_pipelines_preprocess/preprocessed/sub-164636_right-hand_spm-8-0-0_con.nii', '/srv/tempdd/egermani/hcp_many_pipelines_preprocess/preprocessed/sub-173435_right-hand_spm-8-0-0_con.nii', '/srv/tempdd/egermani/hcp_many_pipelines_preprocess/preprocessed/sub-180533_right-hand_spm-8-0-0_con.nii', '/srv/tempdd/egermani/hcp_many_pipelines_preprocess/preprocessed/sub-185341_right-hand_spm-8-0-0_con.nii', '/srv/tempdd/egermani/hcp_many_pipelines_preprocess/preprocessed/sub-186444_right-hand_spm-8-0-0_con.nii', '/srv/tempdd/egermani/hcp_many_pipelines_preprocess/preprocessed/sub-186545_right-hand_spm-8-0-0_con.nii', '/srv/tempdd/egermani/hcp_many_pipelines_preprocess/preprocessed/sub-186949_right-hand_spm-8-0-0_con.nii', '/srv/tempdd/egermani/hcp_many_pipelines_preprocess/preprocessed/sub-191235_right-hand_spm-8-0-0_con.nii', '/srv/tempdd/egermani/hcp_many_pipelines_preprocess/preprocessed/sub-192237_right-hand_spm-8-0-0_con.nii', '/srv/tempdd/egermani/hcp_many_pipelines_preprocess/preprocessed/sub-193239_right-hand_spm-8-0-0_con.nii', '/srv/tempdd/egermani/hcp_many_pipelines_preprocess/preprocessed/sub-213421_right-hand_spm-8-0-0_con.nii', '/srv/tempdd/egermani/hcp_many_pipelines_preprocess/preprocessed/sub-246133_right-hand_spm-8-0-0_con.nii', '/srv/tempdd/egermani/hcp_many_pipelines_preprocess/preprocessed/sub-300719_right-hand_spm-8-0-0_con.nii', '/srv/tempdd/egermani/hcp_many_pipelines_preprocess/preprocessed/sub-334635_right-hand_spm-8-0-0_con.nii', '/srv/tempdd/egermani/hcp_many_pipelines_preprocess/preprocessed/sub-351938_right-hand_spm-8-0-0_con.nii', '/srv/tempdd/egermani/hcp_many_pipelines_preprocess/preprocessed/sub-376247_right-hand_spm-8-0-0_con.nii', '/srv/tempdd/egermani/hcp_many_pipelines_preprocess/preprocessed/sub-382242_right-hand_spm-8-0-0_con.nii', '/srv/tempdd/egermani/hcp_many_pipelines_preprocess/preprocessed/sub-397154_right-hand_spm-8-0-0_con.nii', '/srv/tempdd/egermani/hcp_many_pipelines_preprocess/preprocessed/sub-429040_right-hand_spm-8-0-0_con.nii', '/srv/tempdd/egermani/hcp_many_pipelines_preprocess/preprocessed/sub-481951_right-hand_spm-8-0-0_con.nii', '/srv/tempdd/egermani/hcp_many_pipelines_preprocess/preprocessed/sub-485757_right-hand_spm-8-0-0_con.nii', '/srv/tempdd/egermani/hcp_many_pipelines_preprocess/preprocessed/sub-562446_right-hand_spm-8-0-0_con.nii', '/srv/tempdd/egermani/hcp_many_pipelines_preprocess/preprocessed/sub-599065_right-hand_spm-8-0-0_con.nii', '/srv/tempdd/egermani/hcp_many_pipelines_preprocess/preprocessed/sub-599671_right-hand_spm-8-0-0_con.nii', '/srv/tempdd/egermani/hcp_many_pipelines_preprocess/preprocessed/sub-620434_right-hand_spm-8-0-0_con.nii', '/srv/tempdd/egermani/hcp_many_pipelines_preprocess/preprocessed/sub-693461_right-hand_spm-8-0-0_con.nii', '/srv/tempdd/egermani/hcp_many_pipelines_preprocess/preprocessed/sub-695768_right-hand_spm-8-0-0_con.nii', '/srv/tempdd/egermani/hcp_many_pipelines_preprocess/preprocessed/sub-749361_right-hand_spm-8-0-0_con.nii', '/srv/tempdd/egermani/hcp_many_pipelines_preprocess/preprocessed/sub-825654_right-hand_spm-8-0-0_con.nii', '/srv/tempdd/egermani/hcp_many_pipelines_preprocess/preprocessed/sub-849264_right-hand_spm-8-0-0_con.nii', '/srv/tempdd/egermani/hcp_many_pipelines_preprocess/preprocessed/sub-861456_right-hand_spm-8-0-0_con.nii', '/srv/tempdd/egermani/hcp_many_pipelines_preprocess/preprocessed/sub-888678_right-hand_spm-8-0-0_con.nii', '/srv/tempdd/egermani/hcp_many_pipelines_preprocess/preprocessed/sub-911849_right-hand_spm-8-0-0_con.nii', '/srv/tempdd/egermani/hcp_many_pipelines_preprocess/preprocessed/sub-923755_right-hand_spm-8-0-0_con.nii', '/srv/tempdd/egermani/hcp_many_pipelines_preprocess/preprocessed/sub-930449_right-hand_spm-8-0-0_con.nii', '/srv/tempdd/egermani/hcp_many_pipelines_preprocess/preprocessed/sub-958976_right-hand_spm-8-0-0_con.nii', '/srv/tempdd/egermani/hcp_many_pipelines_preprocess/preprocessed/sub-965367_right-hand_spm-8-0-0_con.nii', '/srv/tempdd/egermani/hcp_many_pipelines_preprocess/preprocessed/sub-973770_right-hand_spm-8-0-0_con.nii'])"
   ]
  },
  {
   "cell_type": "code",
   "execution_count": 3,
   "id": "e6cfc3f7-919e-4de9-9c11-70848b71162c",
   "metadata": {},
   "outputs": [
    {
     "data": {
      "text/plain": [
       "50"
      ]
     },
     "execution_count": 3,
     "metadata": {},
     "output_type": "execute_result"
    }
   ],
   "source": [
    "len(['/srv/tempdd/egermani/hcp_many_pipelines_preprocess/preprocessed/sub-108121_right-hand_fsl-8-0-0_con.nii.gz', '/srv/tempdd/egermani/hcp_many_pipelines_preprocess/preprocessed/sub-108828_right-hand_fsl-8-0-0_con.nii.gz', '/srv/tempdd/egermani/hcp_many_pipelines_preprocess/preprocessed/sub-124624_right-hand_fsl-8-0-0_con.nii.gz', '/srv/tempdd/egermani/hcp_many_pipelines_preprocess/preprocessed/sub-126426_right-hand_fsl-8-0-0_con.nii.gz', '/srv/tempdd/egermani/hcp_many_pipelines_preprocess/preprocessed/sub-130518_right-hand_fsl-8-0-0_con.nii.gz', '/srv/tempdd/egermani/hcp_many_pipelines_preprocess/preprocessed/sub-134324_right-hand_fsl-8-0-0_con.nii.gz', '/srv/tempdd/egermani/hcp_many_pipelines_preprocess/preprocessed/sub-137633_right-hand_fsl-8-0-0_con.nii.gz', '/srv/tempdd/egermani/hcp_many_pipelines_preprocess/preprocessed/sub-151425_right-hand_fsl-8-0-0_con.nii.gz', '/srv/tempdd/egermani/hcp_many_pipelines_preprocess/preprocessed/sub-152427_right-hand_fsl-8-0-0_con.nii.gz', '/srv/tempdd/egermani/hcp_many_pipelines_preprocess/preprocessed/sub-154229_right-hand_fsl-8-0-0_con.nii.gz', '/srv/tempdd/egermani/hcp_many_pipelines_preprocess/preprocessed/sub-166640_right-hand_fsl-8-0-0_con.nii.gz', '/srv/tempdd/egermani/hcp_many_pipelines_preprocess/preprocessed/sub-168947_right-hand_fsl-8-0-0_con.nii.gz', '/srv/tempdd/egermani/hcp_many_pipelines_preprocess/preprocessed/sub-172433_right-hand_fsl-8-0-0_con.nii.gz', '/srv/tempdd/egermani/hcp_many_pipelines_preprocess/preprocessed/sub-174437_right-hand_fsl-8-0-0_con.nii.gz', '/srv/tempdd/egermani/hcp_many_pipelines_preprocess/preprocessed/sub-175338_right-hand_fsl-8-0-0_con.nii.gz', '/srv/tempdd/egermani/hcp_many_pipelines_preprocess/preprocessed/sub-175540_right-hand_fsl-8-0-0_con.nii.gz', '/srv/tempdd/egermani/hcp_many_pipelines_preprocess/preprocessed/sub-176239_right-hand_fsl-8-0-0_con.nii.gz', '/srv/tempdd/egermani/hcp_many_pipelines_preprocess/preprocessed/sub-177746_right-hand_fsl-8-0-0_con.nii.gz', '/srv/tempdd/egermani/hcp_many_pipelines_preprocess/preprocessed/sub-181636_right-hand_fsl-8-0-0_con.nii.gz', '/srv/tempdd/egermani/hcp_many_pipelines_preprocess/preprocessed/sub-183034_right-hand_fsl-8-0-0_con.nii.gz', '/srv/tempdd/egermani/hcp_many_pipelines_preprocess/preprocessed/sub-194746_right-hand_fsl-8-0-0_con.nii.gz', '/srv/tempdd/egermani/hcp_many_pipelines_preprocess/preprocessed/sub-196144_right-hand_fsl-8-0-0_con.nii.gz', '/srv/tempdd/egermani/hcp_many_pipelines_preprocess/preprocessed/sub-211922_right-hand_fsl-8-0-0_con.nii.gz', '/srv/tempdd/egermani/hcp_many_pipelines_preprocess/preprocessed/sub-219231_right-hand_fsl-8-0-0_con.nii.gz', '/srv/tempdd/egermani/hcp_many_pipelines_preprocess/preprocessed/sub-268749_right-hand_fsl-8-0-0_con.nii.gz', '/srv/tempdd/egermani/hcp_many_pipelines_preprocess/preprocessed/sub-322224_right-hand_fsl-8-0-0_con.nii.gz', '/srv/tempdd/egermani/hcp_many_pipelines_preprocess/preprocessed/sub-330324_right-hand_fsl-8-0-0_con.nii.gz', '/srv/tempdd/egermani/hcp_many_pipelines_preprocess/preprocessed/sub-336841_right-hand_fsl-8-0-0_con.nii.gz', '/srv/tempdd/egermani/hcp_many_pipelines_preprocess/preprocessed/sub-341834_right-hand_fsl-8-0-0_con.nii.gz', '/srv/tempdd/egermani/hcp_many_pipelines_preprocess/preprocessed/sub-378857_right-hand_fsl-8-0-0_con.nii.gz', '/srv/tempdd/egermani/hcp_many_pipelines_preprocess/preprocessed/sub-390645_right-hand_fsl-8-0-0_con.nii.gz', '/srv/tempdd/egermani/hcp_many_pipelines_preprocess/preprocessed/sub-421226_right-hand_fsl-8-0-0_con.nii.gz', '/srv/tempdd/egermani/hcp_many_pipelines_preprocess/preprocessed/sub-436239_right-hand_fsl-8-0-0_con.nii.gz', '/srv/tempdd/egermani/hcp_many_pipelines_preprocess/preprocessed/sub-562446_right-hand_fsl-8-0-0_con.nii.gz', '/srv/tempdd/egermani/hcp_many_pipelines_preprocess/preprocessed/sub-585256_right-hand_fsl-8-0-0_con.nii.gz', '/srv/tempdd/egermani/hcp_many_pipelines_preprocess/preprocessed/sub-590047_right-hand_fsl-8-0-0_con.nii.gz', '/srv/tempdd/egermani/hcp_many_pipelines_preprocess/preprocessed/sub-654350_right-hand_fsl-8-0-0_con.nii.gz', '/srv/tempdd/egermani/hcp_many_pipelines_preprocess/preprocessed/sub-680957_right-hand_fsl-8-0-0_con.nii.gz', '/srv/tempdd/egermani/hcp_many_pipelines_preprocess/preprocessed/sub-689470_right-hand_fsl-8-0-0_con.nii.gz', '/srv/tempdd/egermani/hcp_many_pipelines_preprocess/preprocessed/sub-700634_right-hand_fsl-8-0-0_con.nii.gz', '/srv/tempdd/egermani/hcp_many_pipelines_preprocess/preprocessed/sub-713239_right-hand_fsl-8-0-0_con.nii.gz', '/srv/tempdd/egermani/hcp_many_pipelines_preprocess/preprocessed/sub-715647_right-hand_fsl-8-0-0_con.nii.gz', '/srv/tempdd/egermani/hcp_many_pipelines_preprocess/preprocessed/sub-727654_right-hand_fsl-8-0-0_con.nii.gz', '/srv/tempdd/egermani/hcp_many_pipelines_preprocess/preprocessed/sub-731140_right-hand_fsl-8-0-0_con.nii.gz', '/srv/tempdd/egermani/hcp_many_pipelines_preprocess/preprocessed/sub-751348_right-hand_fsl-8-0-0_con.nii.gz', '/srv/tempdd/egermani/hcp_many_pipelines_preprocess/preprocessed/sub-786569_right-hand_fsl-8-0-0_con.nii.gz', '/srv/tempdd/egermani/hcp_many_pipelines_preprocess/preprocessed/sub-859671_right-hand_fsl-8-0-0_con.nii.gz', '/srv/tempdd/egermani/hcp_many_pipelines_preprocess/preprocessed/sub-871762_right-hand_fsl-8-0-0_con.nii.gz', '/srv/tempdd/egermani/hcp_many_pipelines_preprocess/preprocessed/sub-926862_right-hand_fsl-8-0-0_con.nii.gz', '/srv/tempdd/egermani/hcp_many_pipelines_preprocess/preprocessed/sub-942658_right-hand_fsl-8-0-0_con.nii.gz'])"
   ]
  },
  {
   "cell_type": "code",
   "execution_count": 5,
   "id": "9d62749a-eda9-46f7-9ea0-9a87fa023e9e",
   "metadata": {},
   "outputs": [
    {
     "data": {
      "text/plain": [
       "<nipype.interfaces.base.support.InterfaceResult at 0x1061dbd00>"
      ]
     },
     "execution_count": 5,
     "metadata": {},
     "output_type": "execute_result"
    }
   ],
   "source": [
    "from nipype.interfaces import fsl\n",
    "\n",
    "contrasts = [\n",
    "                ('Eq range vs Eq indiff in loss', 'T', ['Group_1', 'Group_2'], [1, -1])\n",
    "            ]\n",
    "\n",
    "regs = dict(Group_1 = [0,1,0,1,0,1,0,1,0,1,0,1,0,1,0,1,0,1,0,1], \n",
    "                      Group_2 = [1,0,1,0,1,0,1,0,1,0,1,0,1,0,1,0,1,0,1,0,1,0,1,0])\n",
    "\n",
    "\n",
    "ttest = fsl.MultipleRegressDesign(contrasts=contrasts, regressors=regs)\n",
    "\n",
    "ttest.run()"
   ]
  },
  {
   "cell_type": "code",
   "execution_count": null,
   "id": "7f7fa151-9e0e-4848-99cc-60bd609a2aba",
   "metadata": {},
   "outputs": [],
   "source": []
  }
 ],
 "metadata": {
  "kernelspec": {
   "display_name": "Python 3 (ipykernel)",
   "language": "python",
   "name": "python3"
  },
  "language_info": {
   "codemirror_mode": {
    "name": "ipython",
    "version": 3
   },
   "file_extension": ".py",
   "mimetype": "text/x-python",
   "name": "python",
   "nbconvert_exporter": "python",
   "pygments_lexer": "ipython3",
   "version": "3.10.12"
  }
 },
 "nbformat": 4,
 "nbformat_minor": 5
}
